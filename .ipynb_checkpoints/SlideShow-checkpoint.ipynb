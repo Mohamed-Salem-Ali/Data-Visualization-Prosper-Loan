{
 "cells": [
  {
   "cell_type": "markdown",
   "id": "theoretical-elite",
   "metadata": {
    "slideshow": {
     "slide_type": "slide"
    }
   },
   "source": [
    "# Propser Loan Data Exploration \n",
    "## Mohamed Salem Ali"
   ]
  },
  {
   "cell_type": "code",
   "execution_count": 2,
   "id": "unnecessary-ambassador",
   "metadata": {
    "slideshow": {
     "slide_type": "skip"
    }
   },
   "outputs": [],
   "source": [
    "import numpy as np\n",
    "import pandas as pd\n",
    "import matplotlib.pyplot as plt\n",
    "import seaborn as sb\n",
    "%matplotlib inline"
   ]
  },
  {
   "cell_type": "code",
   "execution_count": 3,
   "id": "moving-yahoo",
   "metadata": {
    "slideshow": {
     "slide_type": "skip"
    }
   },
   "outputs": [],
   "source": [
    "df = pd.read_csv('Data/prosperLoanData.csv')"
   ]
  },
  {
   "cell_type": "markdown",
   "id": "stuffed-channels",
   "metadata": {
    "slideshow": {
     "slide_type": "fragment"
    }
   },
   "source": [
    "## ( Structure of Dataset )\n",
    "### There are 113,937 loans in the dataset with 81 features. Most variables are numeric and categorical like (Term , StatedMonthlyIncome , LoanOriginalAmount , EmploymentStatues , Investors and many others )\n",
    "\n",
    "## ( Main features of interest )\n",
    "### 1- Borrower Annual Percentage Rate\n",
    "### 2- LoanOriginalAmount \n",
    "### 3- StatedMonthlyIncome \n",
    "### 4- Term \n",
    "### 5- EmploymentStatus  \n",
    "### 6- Prosper Score\n",
    "### 7- Credit Grade\n",
    "### 8- Estimated Returns\n",
    "### 9- Income Ratio\n",
    "### 10-Debt to Income Ratio"
   ]
  },
  {
   "cell_type": "markdown",
   "id": "spread-tuition",
   "metadata": {
    "slideshow": {
     "slide_type": "slide"
    }
   },
   "source": [
    "# Univariate Exploration\n",
    "## 1-BorrowerAPR"
   ]
  },
  {
   "cell_type": "code",
   "execution_count": 4,
   "id": "former-subsection",
   "metadata": {
    "slideshow": {
     "slide_type": "subslide"
    }
   },
   "outputs": [
    {
     "data": {
      "text/plain": [
       "Text(0.5, 0, 'Borrower Annual Percentage Rate')"
      ]
     },
     "execution_count": 4,
     "metadata": {},
     "output_type": "execute_result"
    },
    {
     "data": {
      "image/png": "[encoded data removed]",
      "text/plain": [
       "<Figure size 720x720 with 1 Axes>"
      ]
     },
     "metadata": {
      "needs_background": "light"
     },
     "output_type": "display_data"
    }
   ],
   "source": [
    "B_APR = df.BorrowerAPR\n",
    "B_APR.dropna(axis = 0, inplace = True)\n",
    "b = np.arange(B_APR.min(),B_APR.max()+0.05,0.01)\n",
    "plt.figure(figsize=[10,10])\n",
    "plt.hist(data = df, x = 'BorrowerAPR', bins=b)\n",
    "plt.xlabel('Borrower Annual Percentage Rate')"
   ]
  },
  {
   "cell_type": "code",
   "execution_count": null,
   "id": "egyptian-phoenix",
   "metadata": {},
   "outputs": [],
   "source": []
  }
 ],
 "metadata": {
  "celltoolbar": "Slideshow",
  "kernelspec": {
   "display_name": "Python 3",
   "language": "python",
   "name": "python3"
  },
  "language_info": {
   "codemirror_mode": {
    "name": "ipython",
    "version": 3
   },
   "file_extension": ".py",
   "mimetype": "text/x-python",
   "name": "python",
   "nbconvert_exporter": "python",
   "pygments_lexer": "ipython3",
   "version": "3.7.3"
  }
 },
 "nbformat": 4,
 "nbformat_minor": 5
}
