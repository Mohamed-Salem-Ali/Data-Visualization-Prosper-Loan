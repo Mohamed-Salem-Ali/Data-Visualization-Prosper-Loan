{
 "cells": [
  {
   "cell_type": "markdown",
   "id": "proud-works",
   "metadata": {},
   "source": [
    "# Propser Loan Data Exploration \n",
    "## Mohamed Salem Ali"
   ]
  },
  {
   "cell_type": "markdown",
   "id": "specialized-aluminum",
   "metadata": {},
   "source": [
    "## ( Structure of Dataset )"
   ]
  },
  {
   "cell_type": "markdown",
   "id": "objective-campus",
   "metadata": {},
   "source": [
    "#### The dataset comprised of borrower APRs and traits of 113,937 advances.\n",
    "#### Most variables are numeric and categorical.\n",
    "#### The credits included original loan amount. \n",
    "#### borrower's Prosper rating\n",
    "#### advance term.\n",
    "#### borrower's expressed month to month pay. \n",
    "#### just as numerous different elements like borrower's work status. \n",
    "#### relationship of outstanding debt to take home pay.\n",
    "#### current advance status and so forth."
   ]
  },
  {
   "cell_type": "markdown",
   "id": "tested-marker",
   "metadata": {},
   "source": [
    "### import all packages"
   ]
  },
  {
   "cell_type": "code",
   "execution_count": 1,
   "id": "romantic-combination",
   "metadata": {},
   "outputs": [],
   "source": [
    "import numpy as np\n",
    "import pandas as pd\n",
    "import matplotlib.pyplot as plt\n",
    "import seaborn as sb\n",
    "%matplotlib inline"
   ]
  },
  {
   "cell_type": "markdown",
   "id": "rubber-documentary",
   "metadata": {},
   "source": [
    "### load in dataset into a pandas dataframe"
   ]
  },
  {
   "cell_type": "code",
   "execution_count": 2,
   "id": "contrary-halifax",
   "metadata": {},
   "outputs": [],
   "source": [
    "df = pd.read_csv('Data/prosperLoanData.csv')"
   ]
  },
  {
   "cell_type": "markdown",
   "id": "governmental-growth",
   "metadata": {},
   "source": [
    "### Data Shape"
   ]
  },
  {
   "cell_type": "code",
   "execution_count": 3,
   "id": "varying-plaza",
   "metadata": {},
   "outputs": [
    {
     "data": {
      "text/plain": [
       "(113937, 81)"
      ]
     },
     "execution_count": 3,
     "metadata": {},
     "output_type": "execute_result"
    }
   ],
   "source": [
    "df.shape"
   ]
  },
  {
   "cell_type": "markdown",
   "id": "given-phrase",
   "metadata": {},
   "source": [
    "### Data Information & Details "
   ]
  },
  {
   "cell_type": "code",
   "execution_count": 4,
   "id": "equivalent-remainder",
   "metadata": {
    "scrolled": true
   },
   "outputs": [
    {
     "name": "stdout",
     "output_type": "stream",
     "text": [
      "<class 'pandas.core.frame.DataFrame'>\n",
      "RangeIndex: 113937 entries, 0 to 113936\n",
      "Data columns (total 81 columns):\n",
      " #   Column                               Non-Null Count   Dtype  \n",
      "---  ------                               --------------   -----  \n",
      " 0   ListingKey                           113937 non-null  object \n",
      " 1   ListingNumber                        113937 non-null  int64  \n",
      " 2   ListingCreationDate                  113937 non-null  object \n",
      " 3   CreditGrade                          28953 non-null   object \n",
      " 4   Term                                 113937 non-null  int64  \n",
      " 5   LoanStatus                           113937 non-null  object \n",
      " 6   ClosedDate                           55089 non-null   object \n",
      " 7   BorrowerAPR                          113912 non-null  float64\n",
      " 8   BorrowerRate                         113937 non-null  float64\n",
      " 9   LenderYield                          113937 non-null  float64\n",
      " 10  EstimatedEffectiveYield              84853 non-null   float64\n",
      " 11  EstimatedLoss                        84853 non-null   float64\n",
      " 12  EstimatedReturn                      84853 non-null   float64\n",
      " 13  ProsperRating (numeric)              84853 non-null   float64\n",
      " 14  ProsperRating (Alpha)                84853 non-null   object \n",
      " 15  ProsperScore                         84853 non-null   float64\n",
      " 16  ListingCategory (numeric)            113937 non-null  int64  \n",
      " 17  BorrowerState                        108422 non-null  object \n",
      " 18  Occupation                           110349 non-null  object \n",
      " 19  EmploymentStatus                     111682 non-null  object \n",
      " 20  EmploymentStatusDuration             106312 non-null  float64\n",
      " 21  IsBorrowerHomeowner                  113937 non-null  bool   \n",
      " 22  CurrentlyInGroup                     113937 non-null  bool   \n",
      " 23  GroupKey                             13341 non-null   object \n",
      " 24  DateCreditPulled                     113937 non-null  object \n",
      " 25  CreditScoreRangeLower                113346 non-null  float64\n",
      " 26  CreditScoreRangeUpper                113346 non-null  float64\n",
      " 27  FirstRecordedCreditLine              113240 non-null  object \n",
      " 28  CurrentCreditLines                   106333 non-null  float64\n",
      " 29  OpenCreditLines                      106333 non-null  float64\n",
      " 30  TotalCreditLinespast7years           113240 non-null  float64\n",
      " 31  OpenRevolvingAccounts                113937 non-null  int64  \n",
      " 32  OpenRevolvingMonthlyPayment          113937 non-null  float64\n",
      " 33  InquiriesLast6Months                 113240 non-null  float64\n",
      " 34  TotalInquiries                       112778 non-null  float64\n",
      " 35  CurrentDelinquencies                 113240 non-null  float64\n",
      " 36  AmountDelinquent                     106315 non-null  float64\n",
      " 37  DelinquenciesLast7Years              112947 non-null  float64\n",
      " 38  PublicRecordsLast10Years             113240 non-null  float64\n",
      " 39  PublicRecordsLast12Months            106333 non-null  float64\n",
      " 40  RevolvingCreditBalance               106333 non-null  float64\n",
      " 41  BankcardUtilization                  106333 non-null  float64\n",
      " 42  AvailableBankcardCredit              106393 non-null  float64\n",
      " 43  TotalTrades                          106393 non-null  float64\n",
      " 44  TradesNeverDelinquent (percentage)   106393 non-null  float64\n",
      " 45  TradesOpenedLast6Months              106393 non-null  float64\n",
      " 46  DebtToIncomeRatio                    105383 non-null  float64\n",
      " 47  IncomeRange                          113937 non-null  object \n",
      " 48  IncomeVerifiable                     113937 non-null  bool   \n",
      " 49  StatedMonthlyIncome                  113937 non-null  float64\n",
      " 50  LoanKey                              113937 non-null  object \n",
      " 51  TotalProsperLoans                    22085 non-null   float64\n",
      " 52  TotalProsperPaymentsBilled           22085 non-null   float64\n",
      " 53  OnTimeProsperPayments                22085 non-null   float64\n",
      " 54  ProsperPaymentsLessThanOneMonthLate  22085 non-null   float64\n",
      " 55  ProsperPaymentsOneMonthPlusLate      22085 non-null   float64\n",
      " 56  ProsperPrincipalBorrowed             22085 non-null   float64\n",
      " 57  ProsperPrincipalOutstanding          22085 non-null   float64\n",
      " 58  ScorexChangeAtTimeOfListing          18928 non-null   float64\n",
      " 59  LoanCurrentDaysDelinquent            113937 non-null  int64  \n",
      " 60  LoanFirstDefaultedCycleNumber        16952 non-null   float64\n",
      " 61  LoanMonthsSinceOrigination           113937 non-null  int64  \n",
      " 62  LoanNumber                           113937 non-null  int64  \n",
      " 63  LoanOriginalAmount                   113937 non-null  int64  \n",
      " 64  LoanOriginationDate                  113937 non-null  object \n",
      " 65  LoanOriginationQuarter               113937 non-null  object \n",
      " 66  MemberKey                            113937 non-null  object \n",
      " 67  MonthlyLoanPayment                   113937 non-null  float64\n",
      " 68  LP_CustomerPayments                  113937 non-null  float64\n",
      " 69  LP_CustomerPrincipalPayments         113937 non-null  float64\n",
      " 70  LP_InterestandFees                   113937 non-null  float64\n",
      " 71  LP_ServiceFees                       113937 non-null  float64\n",
      " 72  LP_CollectionFees                    113937 non-null  float64\n",
      " 73  LP_GrossPrincipalLoss                113937 non-null  float64\n",
      " 74  LP_NetPrincipalLoss                  113937 non-null  float64\n",
      " 75  LP_NonPrincipalRecoverypayments      113937 non-null  float64\n",
      " 76  PercentFunded                        113937 non-null  float64\n",
      " 77  Recommendations                      113937 non-null  int64  \n",
      " 78  InvestmentFromFriendsCount           113937 non-null  int64  \n",
      " 79  InvestmentFromFriendsAmount          113937 non-null  float64\n",
      " 80  Investors                            113937 non-null  int64  \n",
      "dtypes: bool(3), float64(50), int64(11), object(17)\n",
      "memory usage: 68.1+ MB\n"
     ]
    }
   ],
   "source": [
    "df.info()"
   ]
  },
  {
   "cell_type": "markdown",
   "id": "retired-johnson",
   "metadata": {},
   "source": [
    "### Data Description "
   ]
  },
  {
   "cell_type": "code",
   "execution_count": 5,
   "id": "sudden-guatemala",
   "metadata": {},
   "outputs": [
    {
     "data": {
      "text/html": [
       "<div>\n",
       "<style scoped>\n",
       "    .dataframe tbody tr th:only-of-type {\n",
       "        vertical-align: middle;\n",
       "    }\n",
       "\n",
       "    .dataframe tbody tr th {\n",
       "        vertical-align: top;\n",
       "    }\n",
       "\n",
       "    .dataframe thead th {\n",
       "        text-align: right;\n",
       "    }\n",
       "</style>\n",
       "<table border=\"1\" class=\"dataframe\">\n",
       "  <thead>\n",
       "    <tr style=\"text-align: right;\">\n",
       "      <th></th>\n",
       "      <th>ListingNumber</th>\n",
       "      <th>Term</th>\n",
       "      <th>BorrowerAPR</th>\n",
       "      <th>BorrowerRate</th>\n",
       "      <th>LenderYield</th>\n",
       "      <th>EstimatedEffectiveYield</th>\n",
       "      <th>EstimatedLoss</th>\n",
       "      <th>EstimatedReturn</th>\n",
       "      <th>ProsperRating (numeric)</th>\n",
       "      <th>ProsperScore</th>\n",
       "      <th>...</th>\n",
       "      <th>LP_ServiceFees</th>\n",
       "      <th>LP_CollectionFees</th>\n",
       "      <th>LP_GrossPrincipalLoss</th>\n",
       "      <th>LP_NetPrincipalLoss</th>\n",
       "      <th>LP_NonPrincipalRecoverypayments</th>\n",
       "      <th>PercentFunded</th>\n",
       "      <th>Recommendations</th>\n",
       "      <th>InvestmentFromFriendsCount</th>\n",
       "      <th>InvestmentFromFriendsAmount</th>\n",
       "      <th>Investors</th>\n",
       "    </tr>\n",
       "  </thead>\n",
       "  <tbody>\n",
       "    <tr>\n",
       "      <th>count</th>\n",
       "      <td>1.139370e+05</td>\n",
       "      <td>113937.000000</td>\n",
       "      <td>113912.000000</td>\n",
       "      <td>113937.000000</td>\n",
       "      <td>113937.000000</td>\n",
       "      <td>84853.000000</td>\n",
       "      <td>84853.000000</td>\n",
       "      <td>84853.000000</td>\n",
       "      <td>84853.000000</td>\n",
       "      <td>84853.000000</td>\n",
       "      <td>...</td>\n",
       "      <td>113937.000000</td>\n",
       "      <td>113937.000000</td>\n",
       "      <td>113937.000000</td>\n",
       "      <td>113937.000000</td>\n",
       "      <td>113937.000000</td>\n",
       "      <td>113937.000000</td>\n",
       "      <td>113937.000000</td>\n",
       "      <td>113937.000000</td>\n",
       "      <td>113937.000000</td>\n",
       "      <td>113937.000000</td>\n",
       "    </tr>\n",
       "    <tr>\n",
       "      <th>mean</th>\n",
       "      <td>6.278857e+05</td>\n",
       "      <td>40.830248</td>\n",
       "      <td>0.218828</td>\n",
       "      <td>0.192764</td>\n",
       "      <td>0.182701</td>\n",
       "      <td>0.168661</td>\n",
       "      <td>0.080306</td>\n",
       "      <td>0.096068</td>\n",
       "      <td>4.072243</td>\n",
       "      <td>5.950067</td>\n",
       "      <td>...</td>\n",
       "      <td>-54.725641</td>\n",
       "      <td>-14.242698</td>\n",
       "      <td>700.446342</td>\n",
       "      <td>681.420499</td>\n",
       "      <td>25.142686</td>\n",
       "      <td>0.998584</td>\n",
       "      <td>0.048027</td>\n",
       "      <td>0.023460</td>\n",
       "      <td>16.550751</td>\n",
       "      <td>80.475228</td>\n",
       "    </tr>\n",
       "    <tr>\n",
       "      <th>std</th>\n",
       "      <td>3.280762e+05</td>\n",
       "      <td>10.436212</td>\n",
       "      <td>0.080364</td>\n",
       "      <td>0.074818</td>\n",
       "      <td>0.074516</td>\n",
       "      <td>0.068467</td>\n",
       "      <td>0.046764</td>\n",
       "      <td>0.030403</td>\n",
       "      <td>1.673227</td>\n",
       "      <td>2.376501</td>\n",
       "      <td>...</td>\n",
       "      <td>60.675425</td>\n",
       "      <td>109.232758</td>\n",
       "      <td>2388.513831</td>\n",
       "      <td>2357.167068</td>\n",
       "      <td>275.657937</td>\n",
       "      <td>0.017919</td>\n",
       "      <td>0.332353</td>\n",
       "      <td>0.232412</td>\n",
       "      <td>294.545422</td>\n",
       "      <td>103.239020</td>\n",
       "    </tr>\n",
       "    <tr>\n",
       "      <th>min</th>\n",
       "      <td>4.000000e+00</td>\n",
       "      <td>12.000000</td>\n",
       "      <td>0.006530</td>\n",
       "      <td>0.000000</td>\n",
       "      <td>-0.010000</td>\n",
       "      <td>-0.182700</td>\n",
       "      <td>0.004900</td>\n",
       "      <td>-0.182700</td>\n",
       "      <td>1.000000</td>\n",
       "      <td>1.000000</td>\n",
       "      <td>...</td>\n",
       "      <td>-664.870000</td>\n",
       "      <td>-9274.750000</td>\n",
       "      <td>-94.200000</td>\n",
       "      <td>-954.550000</td>\n",
       "      <td>0.000000</td>\n",
       "      <td>0.700000</td>\n",
       "      <td>0.000000</td>\n",
       "      <td>0.000000</td>\n",
       "      <td>0.000000</td>\n",
       "      <td>1.000000</td>\n",
       "    </tr>\n",
       "    <tr>\n",
       "      <th>25%</th>\n",
       "      <td>4.009190e+05</td>\n",
       "      <td>36.000000</td>\n",
       "      <td>0.156290</td>\n",
       "      <td>0.134000</td>\n",
       "      <td>0.124200</td>\n",
       "      <td>0.115670</td>\n",
       "      <td>0.042400</td>\n",
       "      <td>0.074080</td>\n",
       "      <td>3.000000</td>\n",
       "      <td>4.000000</td>\n",
       "      <td>...</td>\n",
       "      <td>-73.180000</td>\n",
       "      <td>0.000000</td>\n",
       "      <td>0.000000</td>\n",
       "      <td>0.000000</td>\n",
       "      <td>0.000000</td>\n",
       "      <td>1.000000</td>\n",
       "      <td>0.000000</td>\n",
       "      <td>0.000000</td>\n",
       "      <td>0.000000</td>\n",
       "      <td>2.000000</td>\n",
       "    </tr>\n",
       "    <tr>\n",
       "      <th>50%</th>\n",
       "      <td>6.005540e+05</td>\n",
       "      <td>36.000000</td>\n",
       "      <td>0.209760</td>\n",
       "      <td>0.184000</td>\n",
       "      <td>0.173000</td>\n",
       "      <td>0.161500</td>\n",
       "      <td>0.072400</td>\n",
       "      <td>0.091700</td>\n",
       "      <td>4.000000</td>\n",
       "      <td>6.000000</td>\n",
       "      <td>...</td>\n",
       "      <td>-34.440000</td>\n",
       "      <td>0.000000</td>\n",
       "      <td>0.000000</td>\n",
       "      <td>0.000000</td>\n",
       "      <td>0.000000</td>\n",
       "      <td>1.000000</td>\n",
       "      <td>0.000000</td>\n",
       "      <td>0.000000</td>\n",
       "      <td>0.000000</td>\n",
       "      <td>44.000000</td>\n",
       "    </tr>\n",
       "    <tr>\n",
       "      <th>75%</th>\n",
       "      <td>8.926340e+05</td>\n",
       "      <td>36.000000</td>\n",
       "      <td>0.283810</td>\n",
       "      <td>0.250000</td>\n",
       "      <td>0.240000</td>\n",
       "      <td>0.224300</td>\n",
       "      <td>0.112000</td>\n",
       "      <td>0.116600</td>\n",
       "      <td>5.000000</td>\n",
       "      <td>8.000000</td>\n",
       "      <td>...</td>\n",
       "      <td>-13.920000</td>\n",
       "      <td>0.000000</td>\n",
       "      <td>0.000000</td>\n",
       "      <td>0.000000</td>\n",
       "      <td>0.000000</td>\n",
       "      <td>1.000000</td>\n",
       "      <td>0.000000</td>\n",
       "      <td>0.000000</td>\n",
       "      <td>0.000000</td>\n",
       "      <td>115.000000</td>\n",
       "    </tr>\n",
       "    <tr>\n",
       "      <th>max</th>\n",
       "      <td>1.255725e+06</td>\n",
       "      <td>60.000000</td>\n",
       "      <td>0.512290</td>\n",
       "      <td>0.497500</td>\n",
       "      <td>0.492500</td>\n",
       "      <td>0.319900</td>\n",
       "      <td>0.366000</td>\n",
       "      <td>0.283700</td>\n",
       "      <td>7.000000</td>\n",
       "      <td>11.000000</td>\n",
       "      <td>...</td>\n",
       "      <td>32.060000</td>\n",
       "      <td>0.000000</td>\n",
       "      <td>25000.000000</td>\n",
       "      <td>25000.000000</td>\n",
       "      <td>21117.900000</td>\n",
       "      <td>1.012500</td>\n",
       "      <td>39.000000</td>\n",
       "      <td>33.000000</td>\n",
       "      <td>25000.000000</td>\n",
       "      <td>1189.000000</td>\n",
       "    </tr>\n",
       "  </tbody>\n",
       "</table>\n",
       "<p>8 rows × 61 columns</p>\n",
       "</div>"
      ],
      "text/plain": [
       "       ListingNumber           Term    BorrowerAPR   BorrowerRate  \\\n",
       "count   1.139370e+05  113937.000000  113912.000000  113937.000000   \n",
       "mean    6.278857e+05      40.830248       0.218828       0.192764   \n",
       "std     3.280762e+05      10.436212       0.080364       0.074818   \n",
       "min     4.000000e+00      12.000000       0.006530       0.000000   \n",
       "25%     4.009190e+05      36.000000       0.156290       0.134000   \n",
       "50%     6.005540e+05      36.000000       0.209760       0.184000   \n",
       "75%     8.926340e+05      36.000000       0.283810       0.250000   \n",
       "max     1.255725e+06      60.000000       0.512290       0.497500   \n",
       "\n",
       "         LenderYield  EstimatedEffectiveYield  EstimatedLoss  EstimatedReturn  \\\n",
       "count  113937.000000             84853.000000   84853.000000     84853.000000   \n",
       "mean        0.182701                 0.168661       0.080306         0.096068   \n",
       "std         0.074516                 0.068467       0.046764         0.030403   \n",
       "min        -0.010000                -0.182700       0.004900        -0.182700   \n",
       "25%         0.124200                 0.115670       0.042400         0.074080   \n",
       "50%         0.173000                 0.161500       0.072400         0.091700   \n",
       "75%         0.240000                 0.224300       0.112000         0.116600   \n",
       "max         0.492500                 0.319900       0.366000         0.283700   \n",
       "\n",
       "       ProsperRating (numeric)  ProsperScore  ...  LP_ServiceFees  \\\n",
       "count             84853.000000  84853.000000  ...   113937.000000   \n",
       "mean                  4.072243      5.950067  ...      -54.725641   \n",
       "std                   1.673227      2.376501  ...       60.675425   \n",
       "min                   1.000000      1.000000  ...     -664.870000   \n",
       "25%                   3.000000      4.000000  ...      -73.180000   \n",
       "50%                   4.000000      6.000000  ...      -34.440000   \n",
       "75%                   5.000000      8.000000  ...      -13.920000   \n",
       "max                   7.000000     11.000000  ...       32.060000   \n",
       "\n",
       "       LP_CollectionFees  LP_GrossPrincipalLoss  LP_NetPrincipalLoss  \\\n",
       "count      113937.000000          113937.000000        113937.000000   \n",
       "mean          -14.242698             700.446342           681.420499   \n",
       "std           109.232758            2388.513831          2357.167068   \n",
       "min         -9274.750000             -94.200000          -954.550000   \n",
       "25%             0.000000               0.000000             0.000000   \n",
       "50%             0.000000               0.000000             0.000000   \n",
       "75%             0.000000               0.000000             0.000000   \n",
       "max             0.000000           25000.000000         25000.000000   \n",
       "\n",
       "       LP_NonPrincipalRecoverypayments  PercentFunded  Recommendations  \\\n",
       "count                    113937.000000  113937.000000    113937.000000   \n",
       "mean                         25.142686       0.998584         0.048027   \n",
       "std                         275.657937       0.017919         0.332353   \n",
       "min                           0.000000       0.700000         0.000000   \n",
       "25%                           0.000000       1.000000         0.000000   \n",
       "50%                           0.000000       1.000000         0.000000   \n",
       "75%                           0.000000       1.000000         0.000000   \n",
       "max                       21117.900000       1.012500        39.000000   \n",
       "\n",
       "       InvestmentFromFriendsCount  InvestmentFromFriendsAmount      Investors  \n",
       "count               113937.000000                113937.000000  113937.000000  \n",
       "mean                     0.023460                    16.550751      80.475228  \n",
       "std                      0.232412                   294.545422     103.239020  \n",
       "min                      0.000000                     0.000000       1.000000  \n",
       "25%                      0.000000                     0.000000       2.000000  \n",
       "50%                      0.000000                     0.000000      44.000000  \n",
       "75%                      0.000000                     0.000000     115.000000  \n",
       "max                     33.000000                 25000.000000    1189.000000  \n",
       "\n",
       "[8 rows x 61 columns]"
      ]
     },
     "execution_count": 5,
     "metadata": {},
     "output_type": "execute_result"
    }
   ],
   "source": [
    "df.describe()"
   ]
  },
  {
   "cell_type": "code",
   "execution_count": 6,
   "id": "loving-flush",
   "metadata": {},
   "outputs": [
    {
     "data": {
      "text/html": [
       "<div>\n",
       "<style scoped>\n",
       "    .dataframe tbody tr th:only-of-type {\n",
       "        vertical-align: middle;\n",
       "    }\n",
       "\n",
       "    .dataframe tbody tr th {\n",
       "        vertical-align: top;\n",
       "    }\n",
       "\n",
       "    .dataframe thead th {\n",
       "        text-align: right;\n",
       "    }\n",
       "</style>\n",
       "<table border=\"1\" class=\"dataframe\">\n",
       "  <thead>\n",
       "    <tr style=\"text-align: right;\">\n",
       "      <th></th>\n",
       "      <th>ListingKey</th>\n",
       "      <th>ListingNumber</th>\n",
       "      <th>ListingCreationDate</th>\n",
       "      <th>CreditGrade</th>\n",
       "      <th>Term</th>\n",
       "      <th>LoanStatus</th>\n",
       "      <th>ClosedDate</th>\n",
       "      <th>BorrowerAPR</th>\n",
       "      <th>BorrowerRate</th>\n",
       "      <th>LenderYield</th>\n",
       "      <th>...</th>\n",
       "      <th>LP_ServiceFees</th>\n",
       "      <th>LP_CollectionFees</th>\n",
       "      <th>LP_GrossPrincipalLoss</th>\n",
       "      <th>LP_NetPrincipalLoss</th>\n",
       "      <th>LP_NonPrincipalRecoverypayments</th>\n",
       "      <th>PercentFunded</th>\n",
       "      <th>Recommendations</th>\n",
       "      <th>InvestmentFromFriendsCount</th>\n",
       "      <th>InvestmentFromFriendsAmount</th>\n",
       "      <th>Investors</th>\n",
       "    </tr>\n",
       "  </thead>\n",
       "  <tbody>\n",
       "    <tr>\n",
       "      <th>0</th>\n",
       "      <td>1021339766868145413AB3B</td>\n",
       "      <td>193129</td>\n",
       "      <td>2007-08-26 19:09:29.263000000</td>\n",
       "      <td>C</td>\n",
       "      <td>36</td>\n",
       "      <td>Completed</td>\n",
       "      <td>2009-08-14 00:00:00</td>\n",
       "      <td>0.16516</td>\n",
       "      <td>0.1580</td>\n",
       "      <td>0.1380</td>\n",
       "      <td>...</td>\n",
       "      <td>-133.18</td>\n",
       "      <td>0.0</td>\n",
       "      <td>0.0</td>\n",
       "      <td>0.0</td>\n",
       "      <td>0.0</td>\n",
       "      <td>1.0</td>\n",
       "      <td>0</td>\n",
       "      <td>0</td>\n",
       "      <td>0.0</td>\n",
       "      <td>258</td>\n",
       "    </tr>\n",
       "    <tr>\n",
       "      <th>1</th>\n",
       "      <td>10273602499503308B223C1</td>\n",
       "      <td>1209647</td>\n",
       "      <td>2014-02-27 08:28:07.900000000</td>\n",
       "      <td>NaN</td>\n",
       "      <td>36</td>\n",
       "      <td>Current</td>\n",
       "      <td>NaN</td>\n",
       "      <td>0.12016</td>\n",
       "      <td>0.0920</td>\n",
       "      <td>0.0820</td>\n",
       "      <td>...</td>\n",
       "      <td>0.00</td>\n",
       "      <td>0.0</td>\n",
       "      <td>0.0</td>\n",
       "      <td>0.0</td>\n",
       "      <td>0.0</td>\n",
       "      <td>1.0</td>\n",
       "      <td>0</td>\n",
       "      <td>0</td>\n",
       "      <td>0.0</td>\n",
       "      <td>1</td>\n",
       "    </tr>\n",
       "    <tr>\n",
       "      <th>2</th>\n",
       "      <td>0EE9337825851032864889A</td>\n",
       "      <td>81716</td>\n",
       "      <td>2007-01-05 15:00:47.090000000</td>\n",
       "      <td>HR</td>\n",
       "      <td>36</td>\n",
       "      <td>Completed</td>\n",
       "      <td>2009-12-17 00:00:00</td>\n",
       "      <td>0.28269</td>\n",
       "      <td>0.2750</td>\n",
       "      <td>0.2400</td>\n",
       "      <td>...</td>\n",
       "      <td>-24.20</td>\n",
       "      <td>0.0</td>\n",
       "      <td>0.0</td>\n",
       "      <td>0.0</td>\n",
       "      <td>0.0</td>\n",
       "      <td>1.0</td>\n",
       "      <td>0</td>\n",
       "      <td>0</td>\n",
       "      <td>0.0</td>\n",
       "      <td>41</td>\n",
       "    </tr>\n",
       "    <tr>\n",
       "      <th>3</th>\n",
       "      <td>0EF5356002482715299901A</td>\n",
       "      <td>658116</td>\n",
       "      <td>2012-10-22 11:02:35.010000000</td>\n",
       "      <td>NaN</td>\n",
       "      <td>36</td>\n",
       "      <td>Current</td>\n",
       "      <td>NaN</td>\n",
       "      <td>0.12528</td>\n",
       "      <td>0.0974</td>\n",
       "      <td>0.0874</td>\n",
       "      <td>...</td>\n",
       "      <td>-108.01</td>\n",
       "      <td>0.0</td>\n",
       "      <td>0.0</td>\n",
       "      <td>0.0</td>\n",
       "      <td>0.0</td>\n",
       "      <td>1.0</td>\n",
       "      <td>0</td>\n",
       "      <td>0</td>\n",
       "      <td>0.0</td>\n",
       "      <td>158</td>\n",
       "    </tr>\n",
       "    <tr>\n",
       "      <th>4</th>\n",
       "      <td>0F023589499656230C5E3E2</td>\n",
       "      <td>909464</td>\n",
       "      <td>2013-09-14 18:38:39.097000000</td>\n",
       "      <td>NaN</td>\n",
       "      <td>36</td>\n",
       "      <td>Current</td>\n",
       "      <td>NaN</td>\n",
       "      <td>0.24614</td>\n",
       "      <td>0.2085</td>\n",
       "      <td>0.1985</td>\n",
       "      <td>...</td>\n",
       "      <td>-60.27</td>\n",
       "      <td>0.0</td>\n",
       "      <td>0.0</td>\n",
       "      <td>0.0</td>\n",
       "      <td>0.0</td>\n",
       "      <td>1.0</td>\n",
       "      <td>0</td>\n",
       "      <td>0</td>\n",
       "      <td>0.0</td>\n",
       "      <td>20</td>\n",
       "    </tr>\n",
       "  </tbody>\n",
       "</table>\n",
       "<p>5 rows × 81 columns</p>\n",
       "</div>"
      ],
      "text/plain": [
       "                ListingKey  ListingNumber            ListingCreationDate  \\\n",
       "0  1021339766868145413AB3B         193129  2007-08-26 19:09:29.263000000   \n",
       "1  10273602499503308B223C1        1209647  2014-02-27 08:28:07.900000000   \n",
       "2  0EE9337825851032864889A          81716  2007-01-05 15:00:47.090000000   \n",
       "3  0EF5356002482715299901A         658116  2012-10-22 11:02:35.010000000   \n",
       "4  0F023589499656230C5E3E2         909464  2013-09-14 18:38:39.097000000   \n",
       "\n",
       "  CreditGrade  Term LoanStatus           ClosedDate  BorrowerAPR  \\\n",
       "0           C    36  Completed  2009-08-14 00:00:00      0.16516   \n",
       "1         NaN    36    Current                  NaN      0.12016   \n",
       "2          HR    36  Completed  2009-12-17 00:00:00      0.28269   \n",
       "3         NaN    36    Current                  NaN      0.12528   \n",
       "4         NaN    36    Current                  NaN      0.24614   \n",
       "\n",
       "   BorrowerRate  LenderYield  ...  LP_ServiceFees  LP_CollectionFees  \\\n",
       "0        0.1580       0.1380  ...         -133.18                0.0   \n",
       "1        0.0920       0.0820  ...            0.00                0.0   \n",
       "2        0.2750       0.2400  ...          -24.20                0.0   \n",
       "3        0.0974       0.0874  ...         -108.01                0.0   \n",
       "4        0.2085       0.1985  ...          -60.27                0.0   \n",
       "\n",
       "   LP_GrossPrincipalLoss  LP_NetPrincipalLoss LP_NonPrincipalRecoverypayments  \\\n",
       "0                    0.0                  0.0                             0.0   \n",
       "1                    0.0                  0.0                             0.0   \n",
       "2                    0.0                  0.0                             0.0   \n",
       "3                    0.0                  0.0                             0.0   \n",
       "4                    0.0                  0.0                             0.0   \n",
       "\n",
       "   PercentFunded  Recommendations InvestmentFromFriendsCount  \\\n",
       "0            1.0                0                          0   \n",
       "1            1.0                0                          0   \n",
       "2            1.0                0                          0   \n",
       "3            1.0                0                          0   \n",
       "4            1.0                0                          0   \n",
       "\n",
       "  InvestmentFromFriendsAmount Investors  \n",
       "0                         0.0       258  \n",
       "1                         0.0         1  \n",
       "2                         0.0        41  \n",
       "3                         0.0       158  \n",
       "4                         0.0        20  \n",
       "\n",
       "[5 rows x 81 columns]"
      ]
     },
     "execution_count": 6,
     "metadata": {},
     "output_type": "execute_result"
    }
   ],
   "source": [
    "df.head()"
   ]
  },
  {
   "cell_type": "markdown",
   "id": "dedicated-robin",
   "metadata": {},
   "source": [
    "## ( Main features of interest )"
   ]
  },
  {
   "cell_type": "markdown",
   "id": "interpreted-builder",
   "metadata": {},
   "source": [
    "### 1- Borrower Annual Percentage Rate.....2- LoanOriginalAmount \n",
    "### 3- StatedMonthlyIncome..........................4- Term \n",
    "### 5- EmploymentStatus ..............................6- Prosper Score\n",
    "### 7- Credit Grade..........................................8- Estimated Returns\n",
    "### 9- Income Ratio.........................................10-Debt to Income Ratio"
   ]
  },
  {
   "cell_type": "markdown",
   "id": "basic-fellow",
   "metadata": {},
   "source": [
    "# Univariate Exploration"
   ]
  },
  {
   "cell_type": "markdown",
   "id": "taken-bedroom",
   "metadata": {},
   "source": [
    "\n",
    "## 1-BorrowerAPR"
   ]
  },
  {
   "cell_type": "code",
   "execution_count": 7,
   "id": "theoretical-expert",
   "metadata": {},
   "outputs": [
    {
     "data": {
      "text/plain": [
       "count    113912.000000\n",
       "mean          0.218828\n",
       "std           0.080364\n",
       "min           0.006530\n",
       "25%           0.156290\n",
       "50%           0.209760\n",
       "75%           0.283810\n",
       "max           0.512290\n",
       "Name: BorrowerAPR, dtype: float64"
      ]
     },
     "execution_count": 7,
     "metadata": {},
     "output_type": "execute_result"
    }
   ],
   "source": [
    "B_APR = df.BorrowerAPR\n",
    "B_APR.describe()"
   ]
  },
  {
   "cell_type": "code",
   "execution_count": 8,
   "id": "offshore-seminar",
   "metadata": {},
   "outputs": [],
   "source": [
    "# drop null rows \n",
    "B_APR.dropna(axis = 0, inplace = True)"
   ]
  },
  {
   "cell_type": "code",
   "execution_count": 9,
   "id": "genetic-diploma",
   "metadata": {},
   "outputs": [
    {
     "data": {
      "text/plain": [
       "Text(0.5, 0, 'Borrower Annual Percentage Rate')"
      ]
     },
     "execution_count": 9,
     "metadata": {},
     "output_type": "execute_result"
    },
    {
     "data": {
      "image/png": "[encoded data removed]",
      "text/plain": [
       "<Figure size 720x720 with 1 Axes>"
      ]
     },
     "metadata": {
      "needs_background": "light"
     },
     "output_type": "display_data"
    }
   ],
   "source": [
    "B_APR = df.BorrowerAPR\n",
    "b = np.arange(B_APR.min(),B_APR.max()+0.05,0.01)\n",
    "plt.figure(figsize=[10,10])\n",
    "plt.hist(data = df, x = 'BorrowerAPR', bins=b)\n",
    "plt.xlabel('Borrower Annual Percentage Rate')"
   ]
  },
  {
   "cell_type": "markdown",
   "id": "unauthorized-residence",
   "metadata": {},
   "source": [
    "### Small amount less than 0.1 APR\n",
    "### Large amount between 0.15 and 0.3 APR\n",
    "### Few loans greater than or equal 0.4 APR"
   ]
  },
  {
   "cell_type": "markdown",
   "id": "romance-domestic",
   "metadata": {},
   "source": [
    "## 2-Loan Original Amount"
   ]
  },
  {
   "cell_type": "code",
   "execution_count": 10,
   "id": "ready-darwin",
   "metadata": {},
   "outputs": [
    {
     "data": {
      "text/plain": [
       "count    113937.00000\n",
       "mean       8337.01385\n",
       "std        6245.80058\n",
       "min        1000.00000\n",
       "25%        4000.00000\n",
       "50%        6500.00000\n",
       "75%       12000.00000\n",
       "max       35000.00000\n",
       "Name: LoanOriginalAmount, dtype: float64"
      ]
     },
     "execution_count": 10,
     "metadata": {},
     "output_type": "execute_result"
    }
   ],
   "source": [
    "LOA = df.LoanOriginalAmount\n",
    "LOA.describe()"
   ]
  },
  {
   "cell_type": "code",
   "execution_count": 11,
   "id": "stone-rogers",
   "metadata": {},
   "outputs": [],
   "source": [
    "# drop null rows \n",
    "LOA.dropna(axis = 0, inplace = True)"
   ]
  },
  {
   "cell_type": "code",
   "execution_count": 12,
   "id": "unnecessary-array",
   "metadata": {},
   "outputs": [
    {
     "data": {
      "text/plain": [
       "Text(0.5, 0, 'Loan Original Amount')"
      ]
     },
     "execution_count": 12,
     "metadata": {},
     "output_type": "execute_result"
    },
    {
     "data": {
      "image/png": "[encoded data removed]",
      "text/plain": [
       "<Figure size 720x504 with 1 Axes>"
      ]
     },
     "metadata": {
      "needs_background": "light"
     },
     "output_type": "display_data"
    }
   ],
   "source": [
    "\n",
    "b = np.arange(LOA.min(),LOA.max(),400)\n",
    "plt.figure(figsize=[10,7])\n",
    "plt.hist(data = df, x = 'LoanOriginalAmount', bins=b)\n",
    "plt.xlabel('Loan Original Amount')"
   ]
  },
  {
   "cell_type": "markdown",
   "id": "convinced-bracket",
   "metadata": {},
   "source": [
    "### Large frequency at 4000 , 10000, 15000 , 20000 , 25000\n",
    "### Small frequency less than 4000 and between (5000 , 10000) and between (10000, 15000)"
   ]
  },
  {
   "cell_type": "markdown",
   "id": "manufactured-decision",
   "metadata": {},
   "source": [
    "## 3-State Monthly Income"
   ]
  },
  {
   "cell_type": "code",
   "execution_count": 13,
   "id": "roman-composer",
   "metadata": {},
   "outputs": [
    {
     "data": {
      "text/plain": [
       "count    1.139370e+05\n",
       "mean     5.608026e+03\n",
       "std      7.478497e+03\n",
       "min      0.000000e+00\n",
       "25%      3.200333e+03\n",
       "50%      4.666667e+03\n",
       "75%      6.825000e+03\n",
       "max      1.750003e+06\n",
       "Name: StatedMonthlyIncome, dtype: float64"
      ]
     },
     "execution_count": 13,
     "metadata": {},
     "output_type": "execute_result"
    }
   ],
   "source": [
    "SMI = df.StatedMonthlyIncome\n",
    "SMI.describe()"
   ]
  },
  {
   "cell_type": "code",
   "execution_count": 14,
   "id": "devoted-entry",
   "metadata": {},
   "outputs": [],
   "source": [
    "# drop null rows \n",
    "SMI.dropna(axis = 0, inplace = True)"
   ]
  },
  {
   "cell_type": "code",
   "execution_count": 15,
   "id": "finite-archive",
   "metadata": {},
   "outputs": [
    {
     "data": {
      "image/png": "[encoded data removed]",
      "text/plain": [
       "<Figure size 720x504 with 1 Axes>"
      ]
     },
     "metadata": {
      "needs_background": "light"
     },
     "output_type": "display_data"
    }
   ],
   "source": [
    "SMI = df.StatedMonthlyIncome\n",
    "b = np.arange(0,30000,1000)\n",
    "plt.figure(figsize=[10,7])\n",
    "plt.hist(data = df, x = 'StatedMonthlyIncome', bins=b)\n",
    "plt.xlabel('Stated Monthly Income')\n",
    "plt.ylabel('Count')\n",
    "plt.title('Distribution of Stated Monthly Income');"
   ]
  },
  {
   "cell_type": "markdown",
   "id": "antique-rogers",
   "metadata": {},
   "source": [
    "### Stated Monthly Income Less than 25000 dollars\n",
    "### The Most Stated Monthly Income between (3500 , 7000)  "
   ]
  },
  {
   "cell_type": "markdown",
   "id": "casual-climate",
   "metadata": {},
   "source": [
    "## 4- Term"
   ]
  },
  {
   "cell_type": "code",
   "execution_count": 16,
   "id": "preliminary-invasion",
   "metadata": {},
   "outputs": [
    {
     "data": {
      "text/plain": [
       "count    113937.000000\n",
       "mean         40.830248\n",
       "std          10.436212\n",
       "min          12.000000\n",
       "25%          36.000000\n",
       "50%          36.000000\n",
       "75%          36.000000\n",
       "max          60.000000\n",
       "Name: Term, dtype: float64"
      ]
     },
     "execution_count": 16,
     "metadata": {},
     "output_type": "execute_result"
    }
   ],
   "source": [
    "T = df.Term\n",
    "T.describe()"
   ]
  },
  {
   "cell_type": "code",
   "execution_count": 17,
   "id": "fatal-password",
   "metadata": {},
   "outputs": [],
   "source": [
    "# drop null rows \n",
    "T.dropna(axis = 0, inplace = True)"
   ]
  },
  {
   "cell_type": "code",
   "execution_count": 18,
   "id": "affected-involvement",
   "metadata": {},
   "outputs": [
    {
     "data": {
      "text/plain": [
       "36    87778\n",
       "60    24545\n",
       "12     1614\n",
       "Name: Term, dtype: int64"
      ]
     },
     "execution_count": 18,
     "metadata": {},
     "output_type": "execute_result"
    }
   ],
   "source": [
    "T.value_counts()"
   ]
  },
  {
   "cell_type": "code",
   "execution_count": 19,
   "id": "continent-italy",
   "metadata": {},
   "outputs": [
    {
     "data": {
      "image/png": "[encoded data removed]",
      "text/plain": [
       "<Figure size 720x504 with 1 Axes>"
      ]
     },
     "metadata": {
      "needs_background": "light"
     },
     "output_type": "display_data"
    }
   ],
   "source": [
    "b = np.arange(10,65,5)\n",
    "plt.figure(figsize=[10,7])\n",
    "plt.hist(data = df, x = 'Term', bins=b)\n",
    "plt.xlabel('Terms')\n",
    "plt.ylabel('Count')\n",
    "plt.title('Distribution of Terms');"
   ]
  },
  {
   "cell_type": "markdown",
   "id": "verified-memorial",
   "metadata": {},
   "source": [
    "### Terms are 12 , 36 and 60 Months\n",
    "### The most Term is 36 months"
   ]
  },
  {
   "cell_type": "markdown",
   "id": "grave-trick",
   "metadata": {},
   "source": [
    "## 5-Emplyment Status"
   ]
  },
  {
   "cell_type": "code",
   "execution_count": 20,
   "id": "voluntary-identity",
   "metadata": {},
   "outputs": [
    {
     "data": {
      "text/plain": [
       "count       111682\n",
       "unique           8\n",
       "top       Employed\n",
       "freq         67322\n",
       "Name: EmploymentStatus, dtype: object"
      ]
     },
     "execution_count": 20,
     "metadata": {},
     "output_type": "execute_result"
    }
   ],
   "source": [
    "ES = df.EmploymentStatus\n",
    "ES.describe()"
   ]
  },
  {
   "cell_type": "code",
   "execution_count": 21,
   "id": "structural-program",
   "metadata": {},
   "outputs": [],
   "source": [
    "# drop null rows \n",
    "ES.dropna(axis = 0, inplace = True)"
   ]
  },
  {
   "cell_type": "code",
   "execution_count": 22,
   "id": "suburban-powder",
   "metadata": {},
   "outputs": [
    {
     "data": {
      "text/plain": [
       "Employed         67322\n",
       "Full-time        26355\n",
       "Self-employed     6134\n",
       "Not available     5347\n",
       "Other             3806\n",
       "Part-time         1088\n",
       "Not employed       835\n",
       "Retired            795\n",
       "Name: EmploymentStatus, dtype: int64"
      ]
     },
     "execution_count": 22,
     "metadata": {},
     "output_type": "execute_result"
    }
   ],
   "source": [
    "ES.value_counts()"
   ]
  },
  {
   "cell_type": "code",
   "execution_count": 23,
   "id": "invisible-rental",
   "metadata": {},
   "outputs": [
    {
     "data": {
      "image/png": "[encoded data removed]",
      "text/plain": [
       "<Figure size 720x504 with 1 Axes>"
      ]
     },
     "metadata": {
      "needs_background": "light"
     },
     "output_type": "display_data"
    }
   ],
   "source": [
    "plt.figure(figsize=[10,7])\n",
    "sb.countplot(data=df , x = 'EmploymentStatus', color=sb.color_palette()[0])\n",
    "plt.xlabel('Employment Status')\n",
    "plt.ylabel('Count')\n",
    "plt.title('Distribution of Employment Status');"
   ]
  },
  {
   "cell_type": "markdown",
   "id": "reserved-hawaii",
   "metadata": {},
   "source": [
    "### Most of borrowers are Employed and Full-time."
   ]
  },
  {
   "cell_type": "markdown",
   "id": "global-covering",
   "metadata": {},
   "source": [
    "## 6- Prosper Score\n"
   ]
  },
  {
   "cell_type": "code",
   "execution_count": 24,
   "id": "random-frank",
   "metadata": {},
   "outputs": [
    {
     "data": {
      "text/plain": [
       "count    84853.000000\n",
       "mean         5.950067\n",
       "std          2.376501\n",
       "min          1.000000\n",
       "25%          4.000000\n",
       "50%          6.000000\n",
       "75%          8.000000\n",
       "max         11.000000\n",
       "Name: ProsperScore, dtype: float64"
      ]
     },
     "execution_count": 24,
     "metadata": {},
     "output_type": "execute_result"
    }
   ],
   "source": [
    "PS = df.ProsperScore\n",
    "PS.describe()"
   ]
  },
  {
   "cell_type": "code",
   "execution_count": 25,
   "id": "mature-crisis",
   "metadata": {},
   "outputs": [],
   "source": [
    "# drop null rows \n",
    "PS.dropna(axis = 0, inplace = True)"
   ]
  },
  {
   "cell_type": "code",
   "execution_count": 26,
   "id": "positive-biodiversity",
   "metadata": {},
   "outputs": [
    {
     "data": {
      "text/plain": [
       "4.0     12595\n",
       "6.0     12278\n",
       "8.0     12053\n",
       "7.0     10597\n",
       "5.0      9813\n",
       "3.0      7642\n",
       "9.0      6911\n",
       "2.0      5766\n",
       "10.0     4750\n",
       "11.0     1456\n",
       "1.0       992\n",
       "Name: ProsperScore, dtype: int64"
      ]
     },
     "execution_count": 26,
     "metadata": {},
     "output_type": "execute_result"
    }
   ],
   "source": [
    "PS.value_counts()"
   ]
  },
  {
   "cell_type": "code",
   "execution_count": 27,
   "id": "automatic-underwear",
   "metadata": {},
   "outputs": [
    {
     "data": {
      "image/png": "[encoded data removed]",
      "text/plain": [
       "<Figure size 864x576 with 1 Axes>"
      ]
     },
     "metadata": {
      "needs_background": "light"
     },
     "output_type": "display_data"
    }
   ],
   "source": [
    "plt.figure(figsize=[12,8])\n",
    "sb.countplot(data=df , x = 'ProsperScore' , color=sb.color_palette()[0])\n",
    "plt.xlabel('Borrower Prosper Score')\n",
    "plt.ylabel('Count')\n",
    "plt.title('Distribution of Prosper Scores');"
   ]
  },
  {
   "cell_type": "markdown",
   "id": "patent-strengthening",
   "metadata": {},
   "source": [
    "### Scores of the borrowers between 1 to 11\n",
    "### The most Borrwer Prosper scores are 4 , 6 , 8"
   ]
  },
  {
   "cell_type": "markdown",
   "id": "defined-aspect",
   "metadata": {},
   "source": [
    "# 7- Credit Grade"
   ]
  },
  {
   "cell_type": "code",
   "execution_count": 28,
   "id": "owned-relief",
   "metadata": {},
   "outputs": [
    {
     "data": {
      "text/plain": [
       "count     28953\n",
       "unique        8\n",
       "top           C\n",
       "freq       5649\n",
       "Name: CreditGrade, dtype: object"
      ]
     },
     "execution_count": 28,
     "metadata": {},
     "output_type": "execute_result"
    }
   ],
   "source": [
    "CG = df.CreditGrade\n",
    "CG.describe()"
   ]
  },
  {
   "cell_type": "code",
   "execution_count": 29,
   "id": "reserved-testimony",
   "metadata": {},
   "outputs": [],
   "source": [
    "# drop null rows \n",
    "CG.dropna(axis = 0, inplace = True)"
   ]
  },
  {
   "cell_type": "code",
   "execution_count": 30,
   "id": "optical-rainbow",
   "metadata": {},
   "outputs": [
    {
     "data": {
      "text/plain": [
       "C     5649\n",
       "D     5153\n",
       "B     4389\n",
       "AA    3509\n",
       "HR    3508\n",
       "A     3315\n",
       "E     3289\n",
       "NC     141\n",
       "Name: CreditGrade, dtype: int64"
      ]
     },
     "execution_count": 30,
     "metadata": {},
     "output_type": "execute_result"
    }
   ],
   "source": [
    "CG.value_counts()"
   ]
  },
  {
   "cell_type": "code",
   "execution_count": 31,
   "id": "facial-clearance",
   "metadata": {
    "scrolled": true
   },
   "outputs": [
    {
     "data": {
      "image/png": "[encoded data removed]",
      "text/plain": [
       "<Figure size 720x360 with 1 Axes>"
      ]
     },
     "metadata": {
      "needs_background": "light"
     },
     "output_type": "display_data"
    }
   ],
   "source": [
    "plt.figure(figsize=[10,5])\n",
    "sb.countplot(data=df , x = 'CreditGrade',color=sb.color_palette()[0])\n",
    "plt.xlabel('Borrower Credit Grade')\n",
    "plt.ylabel('Count')\n",
    "plt.title('Distribution of Borrower Credit Grade');"
   ]
  },
  {
   "cell_type": "markdown",
   "id": "bound-darwin",
   "metadata": {},
   "source": [
    "## The ratings of most of the borrowers are A , B , C , D."
   ]
  },
  {
   "cell_type": "markdown",
   "id": "reverse-burns",
   "metadata": {},
   "source": [
    "## 8- Estimated Returns"
   ]
  },
  {
   "cell_type": "code",
   "execution_count": 32,
   "id": "geological-audio",
   "metadata": {},
   "outputs": [
    {
     "data": {
      "text/plain": [
       "count    84853.000000\n",
       "mean         0.096068\n",
       "std          0.030403\n",
       "min         -0.182700\n",
       "25%          0.074080\n",
       "50%          0.091700\n",
       "75%          0.116600\n",
       "max          0.283700\n",
       "Name: EstimatedReturn, dtype: float64"
      ]
     },
     "execution_count": 32,
     "metadata": {},
     "output_type": "execute_result"
    }
   ],
   "source": [
    "ER = df.EstimatedReturn\n",
    "ER.describe()"
   ]
  },
  {
   "cell_type": "code",
   "execution_count": 33,
   "id": "exclusive-modem",
   "metadata": {},
   "outputs": [],
   "source": [
    "# drop null rows without an estimated return\n",
    "ER.dropna(axis = 0, inplace = True)"
   ]
  },
  {
   "cell_type": "code",
   "execution_count": 34,
   "id": "fluid-shepherd",
   "metadata": {},
   "outputs": [
    {
     "name": "stderr",
     "output_type": "stream",
     "text": [
      "c:\\users\\hp\\appdata\\local\\programs\\python\\python37\\lib\\site-packages\\seaborn\\distributions.py:2619: FutureWarning: `distplot` is a deprecated function and will be removed in a future version. Please adapt your code to use either `displot` (a figure-level function with similar flexibility) or `histplot` (an axes-level function for histograms).\n",
      "  warnings.warn(msg, FutureWarning)\n"
     ]
    },
    {
     "data": {
      "image/png": "[encoded data removed]",
      "text/plain": [
       "<Figure size 576x360 with 1 Axes>"
      ]
     },
     "metadata": {
      "needs_background": "light"
     },
     "output_type": "display_data"
    }
   ],
   "source": [
    "# histogram plot\n",
    "plt.figure(figsize = [8,5])\n",
    "sb.distplot(ER, bins = 200)\n",
    "plt.xlabel('Estimated Return')\n",
    "plt.ylabel('Count');"
   ]
  },
  {
   "cell_type": "markdown",
   "id": "popular-offering",
   "metadata": {},
   "source": [
    "### Most of our loans have an estimated return between 0% and 20%"
   ]
  },
  {
   "cell_type": "code",
   "execution_count": 35,
   "id": "express-setting",
   "metadata": {},
   "outputs": [
    {
     "data": {
      "image/png": "[encoded data removed]",
      "text/plain": [
       "<Figure size 576x360 with 1 Axes>"
      ]
     },
     "metadata": {
      "needs_background": "light"
     },
     "output_type": "display_data"
    }
   ],
   "source": [
    "plt.figure(figsize = [8,5])\n",
    "sb.histplot(ER, bins = 200)\n",
    "plt.xlim(0, .2)\n",
    "plt.xlabel('Estimated Return')\n",
    "plt.ylabel('Count')\n",
    "plt.title('Distribution of Estimated Returns');"
   ]
  },
  {
   "cell_type": "markdown",
   "id": "continuous-philadelphia",
   "metadata": {},
   "source": [
    "### The largest bin falls right around 12.5%\n",
    "### There are some peaks between  5% to 12.5% and 15%."
   ]
  },
  {
   "cell_type": "markdown",
   "id": "accurate-lithuania",
   "metadata": {},
   "source": [
    "# 9- Income Ratio"
   ]
  },
  {
   "cell_type": "code",
   "execution_count": 36,
   "id": "detected-undergraduate",
   "metadata": {},
   "outputs": [
    {
     "data": {
      "text/plain": [
       "count             113937\n",
       "unique                 8\n",
       "top       $25,000-49,999\n",
       "freq               32192\n",
       "Name: IncomeRange, dtype: object"
      ]
     },
     "execution_count": 36,
     "metadata": {},
     "output_type": "execute_result"
    }
   ],
   "source": [
    "IR =df.IncomeRange\n",
    "IR.describe()"
   ]
  },
  {
   "cell_type": "code",
   "execution_count": 37,
   "id": "breathing-joint",
   "metadata": {},
   "outputs": [
    {
     "data": {
      "text/plain": [
       "$25,000-49,999    32192\n",
       "$50,000-74,999    31050\n",
       "$100,000+         17337\n",
       "$75,000-99,999    16916\n",
       "Not displayed      7741\n",
       "$1-24,999          7274\n",
       "Not employed        806\n",
       "$0                  621\n",
       "Name: IncomeRange, dtype: int64"
      ]
     },
     "execution_count": 37,
     "metadata": {},
     "output_type": "execute_result"
    }
   ],
   "source": [
    "IR.value_counts()"
   ]
  },
  {
   "cell_type": "markdown",
   "id": "photographic-interference",
   "metadata": {},
   "source": [
    "## work on data to Simplify Visualization"
   ]
  },
  {
   "cell_type": "code",
   "execution_count": 38,
   "id": "thrown-hotel",
   "metadata": {},
   "outputs": [],
   "source": [
    "df['IncomeRange'].replace(['Not employed', 'Not displayed'], '$0', inplace = True)\n",
    "ordinal_rating = ['$100,000+', '$75,000-99,999', '$50,000-74,999', '$25,000-49,999', '$1-24,999', '$0']\n",
    "ordered_var = pd.api.types.CategoricalDtype(ordered = True, categories = ordinal_rating)\n",
    "df['IncomeRange'] = df['IncomeRange'].astype(ordered_var)\n",
    "\n",
    "rate_order = ['HR','E','D','C','B','A','AA']\n",
    "ordered_var = pd.api.types.CategoricalDtype(ordered = True,categories = rate_order)\n",
    "df['ProsperRating (Alpha)'] = df['ProsperRating (Alpha)'].astype(ordered_var)"
   ]
  },
  {
   "cell_type": "code",
   "execution_count": 39,
   "id": "universal-slovenia",
   "metadata": {},
   "outputs": [
    {
     "data": {
      "image/png": "[encoded data removed]",
      "text/plain": [
       "<Figure size 576x360 with 1 Axes>"
      ]
     },
     "metadata": {
      "needs_background": "light"
     },
     "output_type": "display_data"
    }
   ],
   "source": [
    "plt.figure(figsize = [8, 5])\n",
    "sb.countplot(data = df, x = 'IncomeRange',color=sb.color_palette()[0])\n",
    "plt.ylabel('Income Range')\n",
    "plt.xlabel('Count')\n",
    "plt.title('Distribution of Borrower Incomes');"
   ]
  },
  {
   "cell_type": "code",
   "execution_count": 40,
   "id": "absolute-thumbnail",
   "metadata": {},
   "outputs": [
    {
     "data": {
      "image/png": "[encoded data removed]",
      "text/plain": [
       "<Figure size 576x360 with 1 Axes>"
      ]
     },
     "metadata": {
      "needs_background": "light"
     },
     "output_type": "display_data"
    }
   ],
   "source": [
    "plt.figure(figsize = [8, 5])\n",
    "sb.countplot(data = df, y = 'IncomeRange',palette = \"Blues_r\")\n",
    "plt.ylabel('Income Range')\n",
    "plt.xlabel('Count')\n",
    "plt.title('Distribution of Borrower Incomes');"
   ]
  },
  {
   "cell_type": "markdown",
   "id": "still-consolidation",
   "metadata": {},
   "source": [
    " ### The number of borrowers for the 25k-50k range is the same as the 50k-75k range. \n",
    " ### The amount of borrowers in the 75k-100k range is the same as that over 100k Income."
   ]
  },
  {
   "cell_type": "markdown",
   "id": "available-impact",
   "metadata": {},
   "source": [
    "# 10-Debt to Income Ratio"
   ]
  },
  {
   "cell_type": "code",
   "execution_count": 41,
   "id": "digital-reference",
   "metadata": {},
   "outputs": [
    {
     "data": {
      "text/plain": [
       "count    105383.000000\n",
       "mean          0.275947\n",
       "std           0.551759\n",
       "min           0.000000\n",
       "25%           0.140000\n",
       "50%           0.220000\n",
       "75%           0.320000\n",
       "max          10.010000\n",
       "Name: DebtToIncomeRatio, dtype: float64"
      ]
     },
     "execution_count": 41,
     "metadata": {},
     "output_type": "execute_result"
    }
   ],
   "source": [
    "DIR = df.DebtToIncomeRatio\n",
    "DIR.describe()"
   ]
  },
  {
   "cell_type": "code",
   "execution_count": 42,
   "id": "coated-worker",
   "metadata": {},
   "outputs": [],
   "source": [
    "# drop null rows without an estimated return\n",
    "DIR.dropna(axis = 0, inplace = True)"
   ]
  },
  {
   "cell_type": "code",
   "execution_count": 43,
   "id": "adequate-vermont",
   "metadata": {},
   "outputs": [
    {
     "data": {
      "text/plain": [
       "0.18000    4132\n",
       "0.22000    3687\n",
       "0.17000    3616\n",
       "0.14000    3553\n",
       "0.20000    3481\n",
       "           ... \n",
       "0.06375       1\n",
       "0.06281       1\n",
       "0.19960       1\n",
       "0.17775       1\n",
       "0.23284       1\n",
       "Name: DebtToIncomeRatio, Length: 1207, dtype: int64"
      ]
     },
     "execution_count": 43,
     "metadata": {},
     "output_type": "execute_result"
    }
   ],
   "source": [
    "DIR.value_counts()"
   ]
  },
  {
   "cell_type": "code",
   "execution_count": null,
   "id": "velvet-graham",
   "metadata": {},
   "outputs": [],
   "source": [
    "plt.figure(figsize = [8,5])\n",
    "sb.histplot(df.DebtToIncomeRatio, bins = 200)\n",
    "plt.xlim(-.1, 1)\n",
    "plt.xlabel('Debt to Income Ratio')\n",
    "plt.ylabel('Count')\n",
    "plt.title('Distribution of Borrower Debt to Income Ratio');"
   ]
  },
  {
   "cell_type": "markdown",
   "id": "parliamentary-scholarship",
   "metadata": {},
   "source": [
    "### It appears that most borrowers have a debt to income around 0.2 "
   ]
  },
  {
   "cell_type": "markdown",
   "id": "distinct-compact",
   "metadata": {},
   "source": [
    "# Bivariate Exploration\n"
   ]
  },
  {
   "cell_type": "code",
   "execution_count": null,
   "id": "alpha-discovery",
   "metadata": {},
   "outputs": [],
   "source": [
    "numeric_variables_1 = ['LoanOriginalAmount', 'BorrowerAPR', 'StatedMonthlyIncome']\n",
    "numeric_variables_2 = ['DebtToIncomeRatio', 'EstimatedReturn']\n",
    "categorical_variables_1 = ['Term', 'CreditGrade', 'EmploymentStatus']\n",
    "categorical_variables_2 = ['IncomeRange','ProsperRating (Alpha)']"
   ]
  },
  {
   "cell_type": "markdown",
   "id": "academic-broadcasting",
   "metadata": {},
   "source": [
    "# Debt To Income Ratio , Estimated Return {HeatMap}"
   ]
  },
  {
   "cell_type": "code",
   "execution_count": null,
   "id": "seasonal-brazil",
   "metadata": {},
   "outputs": [],
   "source": [
    "# correlation plot\n",
    "plt.figure(figsize = [12, 8])\n",
    "sb.heatmap(df[numeric_variables_2].corr(), annot = True, fmt = '.3f',cmap = 'vlag_r', center = 0);"
   ]
  },
  {
   "cell_type": "markdown",
   "id": "piano-economy",
   "metadata": {},
   "source": [
    "# Debt To Income Ratio , Estimated Return {PairGrid}"
   ]
  },
  {
   "cell_type": "code",
   "execution_count": null,
   "id": "brief-wednesday",
   "metadata": {},
   "outputs": [],
   "source": [
    "samples = np.random.choice(df.shape[0], int(df.shape[0]*.005), replace = False)\n",
    "df_samp = df.loc[samples,:]\n",
    "g = sb.PairGrid(data = df_samp, vars = numeric_variables_2, height=3, aspect = 1.25)\n",
    "g = g.map_diag(plt.hist, bins = 50)\n",
    "g.map_offdiag(plt.scatter, alpha = 1/8)\n",
    "g.axes[0,0].set_ylim(0,1)\n",
    "g.axes[0,0].set_xlim(-.1,1)\n",
    "g.axes[0,1].set_xlim(0,.2)\n",
    "g.fig.suptitle('Matrix Plot of Estimated Returns and Debt to Income Ratios')\n",
    "g.fig.subplots_adjust(top = .95);"
   ]
  },
  {
   "cell_type": "markdown",
   "id": "caroline-tumor",
   "metadata": {},
   "source": [
    "#### There doesn't appear to be a correlation between any of the numeric variables.\n",
    "#### May borrowers with a high debt to income ratio to be riskier \n"
   ]
  },
  {
   "cell_type": "markdown",
   "id": "prepared-europe",
   "metadata": {},
   "source": [
    "# Loan Original Amount , Borrower APR, Stated Monthly Income {HeatMap}"
   ]
  },
  {
   "cell_type": "code",
   "execution_count": null,
   "id": "mathematical-clock",
   "metadata": {},
   "outputs": [],
   "source": [
    "# correlation plot\n",
    "plt.figure(figsize = [12, 8])\n",
    "sb.heatmap(df[numeric_variables_1].corr(), annot = True, fmt = '.3f',cmap = 'vlag_r', center = 0);"
   ]
  },
  {
   "cell_type": "markdown",
   "id": "exposed-details",
   "metadata": {},
   "source": [
    "# Loan Original Amount , Borrower APR, Stated Monthly Income {PairGrid}\n",
    "\n"
   ]
  },
  {
   "cell_type": "code",
   "execution_count": null,
   "id": "desperate-cemetery",
   "metadata": {},
   "outputs": [],
   "source": [
    "samples = np.random.choice(df.shape[0], int(df.shape[0]*.005), replace = False)\n",
    "df_samp = df.loc[samples,:]\n",
    "g = sb.PairGrid(data = df_samp, vars = numeric_variables_1)\n",
    "g = g.map_diag(plt.hist, bins = 50)\n",
    "g.map_offdiag(plt.scatter, alpha = 1/8)\n",
    "g.fig.suptitle('Matrix Plot of Loan Original Amount , Borrower APR , Stated Monthly Income')\n",
    "g.fig.subplots_adjust(top = .95);"
   ]
  },
  {
   "cell_type": "markdown",
   "id": "hundred-slope",
   "metadata": {},
   "source": [
    "### The correlation coefficient of borrower APR and loan original amount is Negative, that is the more the loan amount, the lower the APR. \n",
    "### The loan original amount is positively correlated with the stated monthly income, borrowers with more monthly income could loan more money."
   ]
  },
  {
   "cell_type": "markdown",
   "id": "meaningful-challenge",
   "metadata": {},
   "source": [
    "# IncomeRange , EstimatedReturn {BoxPlot}\n"
   ]
  },
  {
   "cell_type": "code",
   "execution_count": null,
   "id": "dried-bikini",
   "metadata": {},
   "outputs": [],
   "source": [
    "plt.figure(figsize = [10, 8])\n",
    "base_color = sb.color_palette()[0]\n",
    "sb.boxplot(data = df, y = 'IncomeRange', x = 'EstimatedReturn', palette = \"Blues_r\", showfliers = False)\n",
    "plt.xlim(0,.2)\n",
    "plt.ylabel('Borrower Income Range')\n",
    "plt.xlabel('Estimated Returns')"
   ]
  },
  {
   "cell_type": "markdown",
   "id": "incorporate-johns",
   "metadata": {},
   "source": [
    "### the borrowers income increases, the median estimated return decreases.\n",
    " ### high income borrowers which drive the highest credit rating interest rates down."
   ]
  },
  {
   "cell_type": "markdown",
   "id": "certain-environment",
   "metadata": {},
   "source": [
    "# ProsperRating (Alpha) , EstimatedReturn {BoxPlot}"
   ]
  },
  {
   "cell_type": "code",
   "execution_count": null,
   "id": "mature-queensland",
   "metadata": {},
   "outputs": [],
   "source": [
    "plt.figure(figsize = [10, 8])\n",
    "base_color = sb.color_palette()[0]\n",
    "sb.boxplot(data = df, y = 'ProsperRating (Alpha)', x = 'EstimatedReturn', palette = \"Blues_r\", showfliers = False)\n",
    "plt.xlim(0.02,.21)\n",
    "plt.ylabel('Prosper Rating')\n",
    "plt.xlabel('Estimated Returns')"
   ]
  },
  {
   "cell_type": "markdown",
   "id": "registered-wisconsin",
   "metadata": {},
   "source": [
    " ### a borrowers credit rating increases, the median estimated return greatly decreases.\n",
    " ### for the higher risk, the interest rate for the loan also increases.\n"
   ]
  },
  {
   "cell_type": "markdown",
   "id": "productive-disaster",
   "metadata": {},
   "source": [
    "# IncomeRange , ProsperRating (Alpha)  {clustered bar chart}"
   ]
  },
  {
   "cell_type": "code",
   "execution_count": null,
   "id": "noted-extra",
   "metadata": {},
   "outputs": [],
   "source": [
    "plt.figure(figsize = [15,6])\n",
    "ax = sb.countplot(data = df, x = 'IncomeRange', hue = 'ProsperRating (Alpha)',palette = 'Blues_r')\n",
    "ax.legend(title = 'Prosper Rating')\n",
    "plt.title('Distribution of Borrower Income Ranges and Prosper Ratings')"
   ]
  },
  {
   "cell_type": "markdown",
   "id": "answering-football",
   "metadata": {},
   "source": [
    "### higher incomes correlate to a higher credit rating qualifying the borrower for the best (lowest) interest rates."
   ]
  },
  {
   "cell_type": "markdown",
   "id": "formal-morocco",
   "metadata": {},
   "source": [
    "# Term , ProsperRating (Alpha)  {clustered bar chart}"
   ]
  },
  {
   "cell_type": "code",
   "execution_count": null,
   "id": "usual-appearance",
   "metadata": {},
   "outputs": [],
   "source": [
    "plt.figure(figsize = [15,6])\n",
    "ax = sb.countplot(data = df, x = 'ProsperRating (Alpha)', hue ='Term' ,palette = 'Blues_r')\n",
    "ax.legend(title = 'Terms')\n",
    "plt.title('Distribution of Terms and ProsperRatings')"
   ]
  },
  {
   "cell_type": "markdown",
   "id": "other-closer",
   "metadata": {},
   "source": [
    "### there are more 60 month loans on B and C ratings.\n",
    "### There is only 36 months loans for HR rating borrowers."
   ]
  },
  {
   "cell_type": "markdown",
   "id": "controversial-tourism",
   "metadata": {},
   "source": [
    "# EmploymentStatus , Term  {clustered bar chart}"
   ]
  },
  {
   "cell_type": "code",
   "execution_count": null,
   "id": "understanding-handy",
   "metadata": {},
   "outputs": [],
   "source": [
    "plt.figure(figsize = [15,6])\n",
    "ax = sb.countplot(data = df, x = 'EmploymentStatus', hue ='Term' ,palette = 'Blues_r')\n",
    "ax.legend(title = 'Terms')\n",
    "plt.title('Distribution of Employment Status and Terms')"
   ]
  },
  {
   "cell_type": "markdown",
   "id": "lasting-kennedy",
   "metadata": {},
   "source": [
    "### there are not loans for  part-time, retired and not employed borrowers."
   ]
  },
  {
   "cell_type": "markdown",
   "id": "secure-fleece",
   "metadata": {},
   "source": [
    "# EmploymentStatus , ProsperRating (Alpha)  {clustered bar chart}"
   ]
  },
  {
   "cell_type": "code",
   "execution_count": null,
   "id": "first-property",
   "metadata": {},
   "outputs": [],
   "source": [
    "plt.figure(figsize = [15,6])\n",
    "ax = sb.countplot(data = df, x = 'EmploymentStatus', hue ='ProsperRating (Alpha)' ,palette = 'Blues_r')\n",
    "ax.legend(title = 'Prosper Rating')\n",
    "plt.title('Distribution of Employment Status and Prosper Rating')"
   ]
  },
  {
   "cell_type": "markdown",
   "id": "curious-fashion",
   "metadata": {},
   "source": [
    "## (Term , ProsperRating , EmploymentStatus) with LoanOriginalAmount {BoxPlot}"
   ]
  },
  {
   "cell_type": "code",
   "execution_count": null,
   "id": "theoretical-commerce",
   "metadata": {},
   "outputs": [],
   "source": [
    "samples = np.random.choice(df.shape[0], int(df.shape[0]*.005), replace = False)\n",
    "df_samp = df.loc[samples,:]\n",
    "# boxplots\n",
    "plt.figure(figsize = [15, 18])\n",
    "plt.subplot(3, 1, 1)\n",
    "base_color = sb.color_palette()[0]\n",
    "sb.boxplot(data = df_samp, x = 'Term', y = 'LoanOriginalAmount', palette = \"Blues_r\", showfliers = False)\n",
    "\n",
    "plt.subplot(3, 1, 2)\n",
    "base_color = sb.color_palette()[0]\n",
    "sb.boxplot(data = df_samp, x = 'ProsperRating (Alpha)', y = 'LoanOriginalAmount', palette = \"Blues_r\", showfliers = False);\n",
    "\n",
    "plt.subplot(3, 1, 3)\n",
    "base_color = sb.color_palette()[0]\n",
    "sb.boxplot(data = df_samp, x = 'EmploymentStatus', y = 'LoanOriginalAmount', palette = \"Blues_r\", showfliers = False);"
   ]
  },
  {
   "cell_type": "markdown",
   "id": "portable-equality",
   "metadata": {},
   "source": [
    "### loan amount is increased with the increase of loan term\n",
    "### Borrowers with better rating also have large loan amount\n",
    "### Employed, self-employed and full time borrowers have more loan amount than part-time, retired and not employed borrowers."
   ]
  },
  {
   "cell_type": "markdown",
   "id": "embedded-recorder",
   "metadata": {},
   "source": [
    "## (Term , ProsperRating , EmploymentStatus) with BorrowerAPR {BoxPlot}"
   ]
  },
  {
   "cell_type": "code",
   "execution_count": null,
   "id": "joined-mistake",
   "metadata": {},
   "outputs": [],
   "source": [
    "samples = np.random.choice(df.shape[0], int(df.shape[0]*.005), replace = False)\n",
    "df_samp = df.loc[samples,:]\n",
    "# boxplots\n",
    "plt.figure(figsize = [15, 18])\n",
    "plt.subplot(3, 1, 1)\n",
    "base_color = sb.color_palette()[0]\n",
    "sb.boxplot(data = df_samp, x = 'Term', y = 'BorrowerAPR', palette = \"Blues_r\", showfliers = False)\n",
    "\n",
    "plt.subplot(3, 1, 2)\n",
    "base_color = sb.color_palette()[0]\n",
    "sb.boxplot(data = df_samp, x = 'ProsperRating (Alpha)', y = 'BorrowerAPR', palette = \"Blues_r\", showfliers = False);\n",
    "\n",
    "plt.subplot(3, 1, 3)\n",
    "base_color = sb.color_palette()[0]\n",
    "sb.boxplot(data = df_samp, x = 'EmploymentStatus', y = 'BorrowerAPR', palette = \"Blues_r\", showfliers = False);"
   ]
  },
  {
   "cell_type": "markdown",
   "id": "indirect-denver",
   "metadata": {},
   "source": [
    "### The borrower APR decreases with the better rating.\n",
    "### Borrowers with the best Prosper ratings have the lowest APR."
   ]
  },
  {
   "cell_type": "markdown",
   "id": "exterior-cherry",
   "metadata": {},
   "source": [
    "## (Term , ProsperRating , EmploymentStatus) with StatedMonthlyIncome {BoxPlot}"
   ]
  },
  {
   "cell_type": "code",
   "execution_count": null,
   "id": "spread-favorite",
   "metadata": {
    "scrolled": false
   },
   "outputs": [],
   "source": [
    "samples = np.random.choice(df.shape[0], int(df.shape[0]*.005), replace = False)\n",
    "df_samp = df.loc[samples,:]\n",
    "# boxplots\n",
    "plt.figure(figsize = [15, 18])\n",
    "plt.subplot(3, 1, 1)\n",
    "base_color = sb.color_palette()[0]\n",
    "sb.boxplot(data = df_samp, x = 'Term', y = 'StatedMonthlyIncome', palette = \"Blues_r\", showfliers = False)\n",
    "\n",
    "plt.subplot(3, 1, 2)\n",
    "base_color = sb.color_palette()[0]\n",
    "sb.boxplot(data = df_samp, x = 'ProsperRating (Alpha)', y = 'StatedMonthlyIncome', palette = \"Blues_r\", showfliers = False);\n",
    "\n",
    "plt.subplot(3, 1, 3)\n",
    "base_color = sb.color_palette()[0]\n",
    "sb.boxplot(data = df_samp, x = 'EmploymentStatus', y = 'StatedMonthlyIncome', palette = \"Blues_r\", showfliers = False);"
   ]
  },
  {
   "cell_type": "markdown",
   "id": "mineral-cooking",
   "metadata": {},
   "source": [
    "#### Borrowers with better rating also have larger monthly income.\n",
    "#### Employed, self-employed and full time borrowers have more monthly income than part-time, retired and not employed borrowers."
   ]
  },
  {
   "cell_type": "markdown",
   "id": "occasional-thriller",
   "metadata": {},
   "source": [
    "# Multivariate Exploration"
   ]
  },
  {
   "cell_type": "markdown",
   "id": "painted-brook",
   "metadata": {},
   "source": [
    "## Borrower APR and Prosper Rating and Term {PointPlot}"
   ]
  },
  {
   "cell_type": "code",
   "execution_count": null,
   "id": "contrary-draft",
   "metadata": {},
   "outputs": [],
   "source": [
    "fig = plt.figure(figsize = [12,8])\n",
    "ax = sb.pointplot(data = df, x = 'ProsperRating (Alpha)', y = 'BorrowerAPR', hue = 'Term',linestyles = '', dodge = 0.3, ci='sd')\n",
    "plt.title('Borrower APR and Prosper Rating and term')\n",
    "plt.ylabel('Borrower APR')\n",
    "ax.set_yticklabels([],minor = True);"
   ]
  },
  {
   "cell_type": "markdown",
   "id": "atlantic-damages",
   "metadata": {},
   "source": [
    "### the borrower APR decrease with the increase of borrow term for people with HR-D raings\n",
    "### the borrower APR increase with the increase of borrow term for people with A-AA raings\n",
    "### the borrower APR still much the same with the increase of borrow term for people with C and B raings"
   ]
  },
  {
   "cell_type": "markdown",
   "id": "capable-letters",
   "metadata": {},
   "source": [
    "## Borrower APR and EmploymentStatus and Term {PointPlot}"
   ]
  },
  {
   "cell_type": "code",
   "execution_count": null,
   "id": "understood-strategy",
   "metadata": {},
   "outputs": [],
   "source": [
    "fig = plt.figure(figsize = [12,8])\n",
    "ax = sb.pointplot(data = df, x = 'EmploymentStatus', y = 'BorrowerAPR', hue = 'Term',linestyles = '', dodge = 0.3, ci='sd')\n",
    "plt.title('Borrower APR and Prosper Rating and term')\n",
    "plt.ylabel('Borrower APR')\n",
    "ax.set_yticklabels([],minor = True);"
   ]
  },
  {
   "cell_type": "markdown",
   "id": "coupled-glasgow",
   "metadata": {},
   "source": [
    "## Borrower APR and Income Range and Term {PointPlot}"
   ]
  },
  {
   "cell_type": "code",
   "execution_count": null,
   "id": "stretch-entity",
   "metadata": {},
   "outputs": [],
   "source": [
    "fig = plt.figure(figsize = [12,8])\n",
    "ax = sb.pointplot(data = df, x = 'IncomeRange', y = 'BorrowerAPR', hue = 'Term',linestyles = '', dodge = 0.3, ci='sd')\n",
    "plt.title('Borrower APR and Prosper Rating and term')\n",
    "plt.ylabel('Borrower APR')\n",
    "ax.set_yticklabels([],minor = True);"
   ]
  }
 ],
 "metadata": {
  "kernelspec": {
   "display_name": "Python 3",
   "language": "python",
   "name": "python3"
  },
  "language_info": {
   "codemirror_mode": {
    "name": "ipython",
    "version": 3
   },
   "file_extension": ".py",
   "mimetype": "text/x-python",
   "name": "python",
   "nbconvert_exporter": "python",
   "pygments_lexer": "ipython3",
   "version": "3.7.3"
  }
 },
 "nbformat": 4,
 "nbformat_minor": 5
}
